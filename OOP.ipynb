{
 "cells": [
  {
   "cell_type": "markdown",
   "metadata": {},
   "source": [
    "## Object-Oriented Programming"
   ]
  },
  {
   "cell_type": "code",
   "execution_count": null,
   "metadata": {},
   "outputs": [],
   "source": [
    "# Think of patterns of behaviors\n",
    "# Collection of objects, patterns of interactions (user interacts with elements of an interface)\n",
    "# Concepts of OOP - objects and classes\n",
    "# object = state + behavior \n",
    "# (customer: email, phone, place order, cancel order)\n",
    "# (button on a website: label, triggerEvent when pressed)\n",
    "# In OOP, state + behaviors are bundled together = encapsulation\n",
    "# Strength of OOP comes from utilizing classes\n",
    "# Class is the blueprint for objects, which describes the possible states and behaviors\n",
    "# In Python, everything is an object, and every object has a class\n",
    "# object = attributes + methods\n",
    "# attributes -> variables -> obj.my_attribute\n",
    "# methods -> function -> obj.my_method()\n",
    "\n",
    "# TO GET all attributes and methods of a particular object\n",
    "import numpy as np\n",
    "a = np.array([1, 2, 3, 4])\n",
    "dir(a)  # list all attributes and methods\n",
    "\n",
    "# PRACTICE\n",
    "# Print the mystery employee's name\n",
    "print(mystery.name)\n",
    "\n",
    "# Print the mystery employee's salary\n",
    "print(mystery.salary)\n",
    "\n",
    "# Give the mystery employee a raise of $2500\n",
    "mystery.give_raise(2500)\n",
    "\n",
    "# Print the salary again\n",
    "print(mystery.salary)"
   ]
  },
  {
   "cell_type": "code",
   "execution_count": null,
   "metadata": {},
   "outputs": [],
   "source": [
    "# CLASS ANATOMY: ATTRIBUTES AND METHODS\n",
    "class Customer: # class <name>: starts a class definition\n",
    "    # code for this class\n",
    "    \n",
    "    # create an empty class with a pass statement\n",
    "    pass\n",
    "\n",
    "# the class can be empty, but we can create objects of the class by specifying the name of the class\n",
    "# c1 and c2 are two objects of the empty class Customer\n",
    "c1 = Customer()\n",
    "c2 = Customer()\n",
    "\n",
    "# Objects should be able to store data and operate (aka attributes and methods)\n",
    "# Method is a function with a self argument\n",
    "\n",
    "class Customer:\n",
    "    \n",
    "    def identify(self, name):\n",
    "        print(\"The customer's name is {}.\".format(name))\n",
    "\n",
    "cust = Customer()\n",
    "cust.identify(\"John\")"
   ]
  },
  {
   "cell_type": "code",
   "execution_count": 5,
   "metadata": {},
   "outputs": [],
   "source": [
    "# Understanding the SELF argument\n",
    "# Classes are templates, to refer to the data of an object within a class, we use SELF as a stand-in for future object\n",
    "# Every method should have a self arg*, so we can use methods and attributes from within the class def even without any objects\n",
    "\n",
    "# ADD an attribute to a class\n",
    "class Customer:\n",
    "    # set the name attribute of an object to new_name\n",
    "    def set_name(self, new_name):\n",
    "        # create an attribute by assigning a value\n",
    "        self.name = new_name # create .name when set_name is called\n",
    "    \n",
    "    def identify(self):\n",
    "        print(\"The customer's name is {}.\".format(self.name))        "
   ]
  },
  {
   "cell_type": "code",
   "execution_count": 8,
   "metadata": {},
   "outputs": [
    {
     "name": "stdout",
     "output_type": "stream",
     "text": [
      "The customer's name is A.\n"
     ]
    }
   ],
   "source": [
    "cust = Customer()\n",
    "cust.set_name('A')\n",
    "cust.identify()"
   ]
  },
  {
   "cell_type": "code",
   "execution_count": null,
   "metadata": {},
   "outputs": [],
   "source": [
    "# PRACTICE\n",
    "\n",
    "class Employee:\n",
    "    def set_name(self, new_name):\n",
    "        self.name = new_name\n",
    "\n",
    "    def set_salary(self, new_salary):\n",
    "        self.salary = new_salary \n",
    "\n",
    "    def give_raise(self, amount):\n",
    "        self.salary = self.salary + amount\n",
    "\n",
    "    # Add monthly_salary method that returns 1/12th of salary attribute\n",
    "    def monthly_salary(self):\n",
    "        return self.salary / 12\n",
    "        \n",
    "    \n",
    "emp = Employee()\n",
    "emp.set_name('Korel Rossi')\n",
    "emp.set_salary(50000)\n",
    "\n",
    "# Get monthly salary of emp and assign to mon_sal\n",
    "mon_sal = emp.monthly_salary()\n",
    "\n",
    "# Print mon_sal\n",
    "print(mon_sal)"
   ]
  },
  {
   "cell_type": "code",
   "execution_count": 13,
   "metadata": {},
   "outputs": [
    {
     "name": "stdout",
     "output_type": "stream",
     "text": [
      "The __init__ method was called\n",
      "July has 2000 in her account.\n"
     ]
    }
   ],
   "source": [
    "# CONSTRUCTOR: __init__() is automatically called whenever an object is created\n",
    "class Customer():\n",
    "    def __init__(self, name, balance=0):\n",
    "        self.name = name  # create .name attribute and assign it to the name variable\n",
    "        self.balance = balance\n",
    "        print(\"The __init__ method was called\")\n",
    "cust = Customer(\"July\", 2000)   # __init__ is implicitly called\n",
    "print(\"{} has {} in her account.\".format(cust.name, cust.balance))\n",
    "\n",
    "# __init__ constructor is good to set default values for attributes"
   ]
  },
  {
   "cell_type": "code",
   "execution_count": null,
   "metadata": {},
   "outputs": [],
   "source": [
    "# BEST PRACTICES\n",
    "# To name classes, use Camel Case. Several words are written without delimiters and each word starts with a capital letter\n",
    "# To name methods and attributes, it is the opposite. Words should be underscored and start with lowercase letters\n",
    "\n",
    "class Employee:\n",
    "    # Create __init__() method\n",
    "    def __init__(self, name, salary):\n",
    "        # Create the name and salary attributes\n",
    "        self.name = name\n",
    "        self.salary = salary\n",
    "    \n",
    "    # From the previous lesson\n",
    "    def give_raise(self, amount):\n",
    "        self.salary += amount\n",
    "\n",
    "    def monthly_salary(self):\n",
    "        return self.salary/12\n",
    "        \n",
    "emp = Employee(\"Korel Rossi\")\n",
    "print(emp.name)\n",
    "print(emp.salary)     \n",
    "\n"
   ]
  }
 ],
 "metadata": {
  "kernelspec": {
   "display_name": "Python 3",
   "language": "python",
   "name": "python3"
  },
  "language_info": {
   "codemirror_mode": {
    "name": "ipython",
    "version": 3
   },
   "file_extension": ".py",
   "mimetype": "text/x-python",
   "name": "python",
   "nbconvert_exporter": "python",
   "pygments_lexer": "ipython3",
   "version": "3.7.8"
  }
 },
 "nbformat": 4,
 "nbformat_minor": 2
}
